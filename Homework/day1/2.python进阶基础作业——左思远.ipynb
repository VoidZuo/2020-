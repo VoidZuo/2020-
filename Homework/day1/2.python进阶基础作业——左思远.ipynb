{
 "cells": [
  {
   "cell_type": "markdown",
   "metadata": {},
   "source": [
    "# 2 python进阶基础作业"
   ]
  },
  {
   "cell_type": "markdown",
   "metadata": {},
   "source": [
    "2.1有四个数字：1、2、3、4，能组成多少个互不相同且无重复数字的三位数？各是多少？"
   ]
  },
  {
   "cell_type": "code",
   "execution_count": 1,
   "metadata": {},
   "outputs": [
    {
     "name": "stdout",
     "output_type": "stream",
     "text": [
      "123\n",
      "132\n",
      "213\n",
      "231\n",
      "312\n",
      "321\n",
      "124\n",
      "142\n",
      "214\n",
      "241\n",
      "412\n",
      "421\n",
      "134\n",
      "143\n",
      "314\n",
      "341\n",
      "413\n",
      "431\n",
      "234\n",
      "243\n",
      "324\n",
      "342\n",
      "423\n",
      "432\n",
      "24\n"
     ]
    }
   ],
   "source": [
    "count=0\n",
    "for i in range(0,4):\n",
    "    for j in range(i+1,4):\n",
    "        for k in range(j+1,4):\n",
    "            #上面的三重循环是确定组合数\n",
    "            #下面是确定全排列\n",
    "            print(100 * (i + 1) + 10 * (j + 1) + k + 1)\n",
    "            print(100 * (i + 1) + 10 * (k + 1) + j + 1)\n",
    "            print(100 * (j + 1) + 10 * (i + 1) + k + 1)\n",
    "            print(100 * (j + 1) + 10 * (k + 1) + i + 1)\n",
    "            print(100 * (k + 1) + 10 * (i + 1) + j + 1)\n",
    "            print(100 * (k + 1) + 10 * (j + 1) + i + 1)\n",
    "            count+=6\n",
    "print(count)  #输出方法总数\n",
    "            "
   ]
  },
  {
   "cell_type": "markdown",
   "metadata": {},
   "source": [
    "2.2  a=[1, 2, 3, 4, 5], a[::2]=?, a[-2:] = ?"
   ]
  },
  {
   "cell_type": "code",
   "execution_count": 3,
   "metadata": {},
   "outputs": [
    {
     "name": "stdout",
     "output_type": "stream",
     "text": [
      "[1, 3, 5]\n",
      "[4, 5]\n"
     ]
    }
   ],
   "source": [
    "a=[1, 2, 3, 4, 5]\n",
    "print(a[::2])  #间隔一个数，范围是整个序列\n",
    "print(a[-2:])  #从倒数第二个数开始（包括自己）向后遍历"
   ]
  },
  {
   "cell_type": "markdown",
   "metadata": {},
   "source": [
    "2.3 使用filter过滤[1,2,7,12,45,56,66]中的奇数，最后输出[2,12,56,66]"
   ]
  },
  {
   "cell_type": "code",
   "execution_count": 5,
   "metadata": {},
   "outputs": [
    {
     "name": "stdout",
     "output_type": "stream",
     "text": [
      "[2, 12, 56, 66]\n"
     ]
    }
   ],
   "source": [
    "def iseven(n):\n",
    "    if n % 2 == 0:\n",
    "        return n\n",
    "\n",
    "newlist = filter(iseven, [1,2,7,12,45,56,66])\n",
    "print(list(newlist))"
   ]
  },
  {
   "cell_type": "code",
   "execution_count": null,
   "metadata": {},
   "outputs": [],
   "source": []
  }
 ],
 "metadata": {
  "kernelspec": {
   "display_name": "Python 3",
   "language": "python",
   "name": "python3"
  },
  "language_info": {
   "codemirror_mode": {
    "name": "ipython",
    "version": 3
   },
   "file_extension": ".py",
   "mimetype": "text/x-python",
   "name": "python",
   "nbconvert_exporter": "python",
   "pygments_lexer": "ipython3",
   "version": "3.6.5"
  }
 },
 "nbformat": 4,
 "nbformat_minor": 2
}
